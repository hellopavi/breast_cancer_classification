{
  "nbformat": 4,
  "nbformat_minor": 0,
  "metadata": {
    "colab": {
      "provenance": []
    },
    "kernelspec": {
      "name": "python3",
      "display_name": "Python 3"
    },
    "language_info": {
      "name": "python"
    }
  },
  "cells": [
    {
      "cell_type": "markdown",
      "source": [
        "# Classification of Breast Cancer Diagnosis\n",
        "\n",
        "This project demonstrates the application of various machine learning models to classify breast cancer diagnosis based on a dataset. We'll walk through loading the data, preprocessing, training, and evaluating different classifiers."
      ],
      "metadata": {
        "id": "Cnspq1U-1tAW"
      }
    },
    {
      "cell_type": "code",
      "execution_count": 82,
      "metadata": {
        "id": "1Skp-1iqNdwr"
      },
      "outputs": [],
      "source": [
        "# Importing necessary libraries\n",
        "import pandas as pd\n",
        "import numpy as np\n",
        "from matplotlib import pyplot as plt"
      ]
    },
    {
      "cell_type": "markdown",
      "source": [
        "## 1. Loading and Exploring the Dataset\n",
        "We start by loading the dataset using Pandas. The `head()` function is used to display the first few rows, helping us understand the structure of the data. We also check the column names and unique values in the 'diagnosis' column."
      ],
      "metadata": {
        "id": "0umQDWE950ZU"
      }
    },
    {
      "cell_type": "code",
      "source": [
        "# Loading the dataset\n",
        "dataset = pd.read_csv('data.csv')\n",
        "dataset.head()"
      ],
      "metadata": {
        "colab": {
          "base_uri": "https://localhost:8080/",
          "height": 256
        },
        "id": "6AKqvMTTN9zf",
        "outputId": "08f652d4-8a52-4c42-abb9-407fa34c6584"
      },
      "execution_count": 83,
      "outputs": [
        {
          "output_type": "execute_result",
          "data": {
            "text/plain": [
              "   id          diagnosis   radius_mean   texture_mean   perimeter_mean   \\\n",
              "0      842302  M                  17.99          10.38           122.80   \n",
              "1      842517  M                  20.57          17.77           132.90   \n",
              "2    84300903  M                  19.69          21.25           130.00   \n",
              "3    84348301  M                  11.42          20.38            77.58   \n",
              "4    84358402  M                  20.29          14.34           135.10   \n",
              "\n",
              "   area_mean   smoothness_mean   compactness_mean   concavity_mean   \\\n",
              "0      1001.0           0.11840            0.27760           0.3001   \n",
              "1      1326.0           0.08474            0.07864           0.0869   \n",
              "2      1203.0           0.10960            0.15990           0.1974   \n",
              "3       386.1           0.14250            0.28390           0.2414   \n",
              "4      1297.0           0.10030            0.13280           0.1980   \n",
              "\n",
              "   concave_points_mean   ...  radius_worst   texture_worst   perimeter_worst   \\\n",
              "0               0.14710  ...          25.38           17.33            184.60   \n",
              "1               0.07017  ...          24.99           23.41            158.80   \n",
              "2               0.12790  ...          23.57           25.53            152.50   \n",
              "3               0.10520  ...          14.91           26.50             98.87   \n",
              "4               0.10430  ...          22.54           16.67            152.20   \n",
              "\n",
              "   area_worst   smoothness_worst   compactness_worst   concavity_worst   \\\n",
              "0       2019.0             0.1622              0.6656            0.7119   \n",
              "1       1956.0             0.1238              0.1866            0.2416   \n",
              "2       1709.0             0.1444              0.4245            0.4504   \n",
              "3        567.7             0.2098              0.8663            0.6869   \n",
              "4       1575.0             0.1374              0.2050            0.4000   \n",
              "\n",
              "   concave_points_worst   symmetry_worst   fractal_dimension_worst  \n",
              "0                 0.2654           0.4601                  0.11890  \n",
              "1                 0.1860           0.2750                  0.08902  \n",
              "2                 0.2430           0.3613                  0.08758  \n",
              "3                 0.2575           0.6638                  0.17300  \n",
              "4                 0.1625           0.2364                  0.07678  \n",
              "\n",
              "[5 rows x 32 columns]"
            ],
            "text/html": [
              "\n",
              "  <div id=\"df-dc1927dd-a506-48cc-8a08-45b92cd4b478\" class=\"colab-df-container\">\n",
              "    <div>\n",
              "<style scoped>\n",
              "    .dataframe tbody tr th:only-of-type {\n",
              "        vertical-align: middle;\n",
              "    }\n",
              "\n",
              "    .dataframe tbody tr th {\n",
              "        vertical-align: top;\n",
              "    }\n",
              "\n",
              "    .dataframe thead th {\n",
              "        text-align: right;\n",
              "    }\n",
              "</style>\n",
              "<table border=\"1\" class=\"dataframe\">\n",
              "  <thead>\n",
              "    <tr style=\"text-align: right;\">\n",
              "      <th></th>\n",
              "      <th>id</th>\n",
              "      <th>diagnosis</th>\n",
              "      <th>radius_mean</th>\n",
              "      <th>texture_mean</th>\n",
              "      <th>perimeter_mean</th>\n",
              "      <th>area_mean</th>\n",
              "      <th>smoothness_mean</th>\n",
              "      <th>compactness_mean</th>\n",
              "      <th>concavity_mean</th>\n",
              "      <th>concave_points_mean</th>\n",
              "      <th>...</th>\n",
              "      <th>radius_worst</th>\n",
              "      <th>texture_worst</th>\n",
              "      <th>perimeter_worst</th>\n",
              "      <th>area_worst</th>\n",
              "      <th>smoothness_worst</th>\n",
              "      <th>compactness_worst</th>\n",
              "      <th>concavity_worst</th>\n",
              "      <th>concave_points_worst</th>\n",
              "      <th>symmetry_worst</th>\n",
              "      <th>fractal_dimension_worst</th>\n",
              "    </tr>\n",
              "  </thead>\n",
              "  <tbody>\n",
              "    <tr>\n",
              "      <th>0</th>\n",
              "      <td>842302</td>\n",
              "      <td>M</td>\n",
              "      <td>17.99</td>\n",
              "      <td>10.38</td>\n",
              "      <td>122.80</td>\n",
              "      <td>1001.0</td>\n",
              "      <td>0.11840</td>\n",
              "      <td>0.27760</td>\n",
              "      <td>0.3001</td>\n",
              "      <td>0.14710</td>\n",
              "      <td>...</td>\n",
              "      <td>25.38</td>\n",
              "      <td>17.33</td>\n",
              "      <td>184.60</td>\n",
              "      <td>2019.0</td>\n",
              "      <td>0.1622</td>\n",
              "      <td>0.6656</td>\n",
              "      <td>0.7119</td>\n",
              "      <td>0.2654</td>\n",
              "      <td>0.4601</td>\n",
              "      <td>0.11890</td>\n",
              "    </tr>\n",
              "    <tr>\n",
              "      <th>1</th>\n",
              "      <td>842517</td>\n",
              "      <td>M</td>\n",
              "      <td>20.57</td>\n",
              "      <td>17.77</td>\n",
              "      <td>132.90</td>\n",
              "      <td>1326.0</td>\n",
              "      <td>0.08474</td>\n",
              "      <td>0.07864</td>\n",
              "      <td>0.0869</td>\n",
              "      <td>0.07017</td>\n",
              "      <td>...</td>\n",
              "      <td>24.99</td>\n",
              "      <td>23.41</td>\n",
              "      <td>158.80</td>\n",
              "      <td>1956.0</td>\n",
              "      <td>0.1238</td>\n",
              "      <td>0.1866</td>\n",
              "      <td>0.2416</td>\n",
              "      <td>0.1860</td>\n",
              "      <td>0.2750</td>\n",
              "      <td>0.08902</td>\n",
              "    </tr>\n",
              "    <tr>\n",
              "      <th>2</th>\n",
              "      <td>84300903</td>\n",
              "      <td>M</td>\n",
              "      <td>19.69</td>\n",
              "      <td>21.25</td>\n",
              "      <td>130.00</td>\n",
              "      <td>1203.0</td>\n",
              "      <td>0.10960</td>\n",
              "      <td>0.15990</td>\n",
              "      <td>0.1974</td>\n",
              "      <td>0.12790</td>\n",
              "      <td>...</td>\n",
              "      <td>23.57</td>\n",
              "      <td>25.53</td>\n",
              "      <td>152.50</td>\n",
              "      <td>1709.0</td>\n",
              "      <td>0.1444</td>\n",
              "      <td>0.4245</td>\n",
              "      <td>0.4504</td>\n",
              "      <td>0.2430</td>\n",
              "      <td>0.3613</td>\n",
              "      <td>0.08758</td>\n",
              "    </tr>\n",
              "    <tr>\n",
              "      <th>3</th>\n",
              "      <td>84348301</td>\n",
              "      <td>M</td>\n",
              "      <td>11.42</td>\n",
              "      <td>20.38</td>\n",
              "      <td>77.58</td>\n",
              "      <td>386.1</td>\n",
              "      <td>0.14250</td>\n",
              "      <td>0.28390</td>\n",
              "      <td>0.2414</td>\n",
              "      <td>0.10520</td>\n",
              "      <td>...</td>\n",
              "      <td>14.91</td>\n",
              "      <td>26.50</td>\n",
              "      <td>98.87</td>\n",
              "      <td>567.7</td>\n",
              "      <td>0.2098</td>\n",
              "      <td>0.8663</td>\n",
              "      <td>0.6869</td>\n",
              "      <td>0.2575</td>\n",
              "      <td>0.6638</td>\n",
              "      <td>0.17300</td>\n",
              "    </tr>\n",
              "    <tr>\n",
              "      <th>4</th>\n",
              "      <td>84358402</td>\n",
              "      <td>M</td>\n",
              "      <td>20.29</td>\n",
              "      <td>14.34</td>\n",
              "      <td>135.10</td>\n",
              "      <td>1297.0</td>\n",
              "      <td>0.10030</td>\n",
              "      <td>0.13280</td>\n",
              "      <td>0.1980</td>\n",
              "      <td>0.10430</td>\n",
              "      <td>...</td>\n",
              "      <td>22.54</td>\n",
              "      <td>16.67</td>\n",
              "      <td>152.20</td>\n",
              "      <td>1575.0</td>\n",
              "      <td>0.1374</td>\n",
              "      <td>0.2050</td>\n",
              "      <td>0.4000</td>\n",
              "      <td>0.1625</td>\n",
              "      <td>0.2364</td>\n",
              "      <td>0.07678</td>\n",
              "    </tr>\n",
              "  </tbody>\n",
              "</table>\n",
              "<p>5 rows × 32 columns</p>\n",
              "</div>\n",
              "    <div class=\"colab-df-buttons\">\n",
              "\n",
              "  <div class=\"colab-df-container\">\n",
              "    <button class=\"colab-df-convert\" onclick=\"convertToInteractive('df-dc1927dd-a506-48cc-8a08-45b92cd4b478')\"\n",
              "            title=\"Convert this dataframe to an interactive table.\"\n",
              "            style=\"display:none;\">\n",
              "\n",
              "  <svg xmlns=\"http://www.w3.org/2000/svg\" height=\"24px\" viewBox=\"0 -960 960 960\">\n",
              "    <path d=\"M120-120v-720h720v720H120Zm60-500h600v-160H180v160Zm220 220h160v-160H400v160Zm0 220h160v-160H400v160ZM180-400h160v-160H180v160Zm440 0h160v-160H620v160ZM180-180h160v-160H180v160Zm440 0h160v-160H620v160Z\"/>\n",
              "  </svg>\n",
              "    </button>\n",
              "\n",
              "  <style>\n",
              "    .colab-df-container {\n",
              "      display:flex;\n",
              "      gap: 12px;\n",
              "    }\n",
              "\n",
              "    .colab-df-convert {\n",
              "      background-color: #E8F0FE;\n",
              "      border: none;\n",
              "      border-radius: 50%;\n",
              "      cursor: pointer;\n",
              "      display: none;\n",
              "      fill: #1967D2;\n",
              "      height: 32px;\n",
              "      padding: 0 0 0 0;\n",
              "      width: 32px;\n",
              "    }\n",
              "\n",
              "    .colab-df-convert:hover {\n",
              "      background-color: #E2EBFA;\n",
              "      box-shadow: 0px 1px 2px rgba(60, 64, 67, 0.3), 0px 1px 3px 1px rgba(60, 64, 67, 0.15);\n",
              "      fill: #174EA6;\n",
              "    }\n",
              "\n",
              "    .colab-df-buttons div {\n",
              "      margin-bottom: 4px;\n",
              "    }\n",
              "\n",
              "    [theme=dark] .colab-df-convert {\n",
              "      background-color: #3B4455;\n",
              "      fill: #D2E3FC;\n",
              "    }\n",
              "\n",
              "    [theme=dark] .colab-df-convert:hover {\n",
              "      background-color: #434B5C;\n",
              "      box-shadow: 0px 1px 3px 1px rgba(0, 0, 0, 0.15);\n",
              "      filter: drop-shadow(0px 1px 2px rgba(0, 0, 0, 0.3));\n",
              "      fill: #FFFFFF;\n",
              "    }\n",
              "  </style>\n",
              "\n",
              "    <script>\n",
              "      const buttonEl =\n",
              "        document.querySelector('#df-dc1927dd-a506-48cc-8a08-45b92cd4b478 button.colab-df-convert');\n",
              "      buttonEl.style.display =\n",
              "        google.colab.kernel.accessAllowed ? 'block' : 'none';\n",
              "\n",
              "      async function convertToInteractive(key) {\n",
              "        const element = document.querySelector('#df-dc1927dd-a506-48cc-8a08-45b92cd4b478');\n",
              "        const dataTable =\n",
              "          await google.colab.kernel.invokeFunction('convertToInteractive',\n",
              "                                                    [key], {});\n",
              "        if (!dataTable) return;\n",
              "\n",
              "        const docLinkHtml = 'Like what you see? Visit the ' +\n",
              "          '<a target=\"_blank\" href=https://colab.research.google.com/notebooks/data_table.ipynb>data table notebook</a>'\n",
              "          + ' to learn more about interactive tables.';\n",
              "        element.innerHTML = '';\n",
              "        dataTable['output_type'] = 'display_data';\n",
              "        await google.colab.output.renderOutput(dataTable, element);\n",
              "        const docLink = document.createElement('div');\n",
              "        docLink.innerHTML = docLinkHtml;\n",
              "        element.appendChild(docLink);\n",
              "      }\n",
              "    </script>\n",
              "  </div>\n",
              "\n",
              "\n",
              "<div id=\"df-6f48daed-93fb-4403-b7b8-d67e3aeba754\">\n",
              "  <button class=\"colab-df-quickchart\" onclick=\"quickchart('df-6f48daed-93fb-4403-b7b8-d67e3aeba754')\"\n",
              "            title=\"Suggest charts\"\n",
              "            style=\"display:none;\">\n",
              "\n",
              "<svg xmlns=\"http://www.w3.org/2000/svg\" height=\"24px\"viewBox=\"0 0 24 24\"\n",
              "     width=\"24px\">\n",
              "    <g>\n",
              "        <path d=\"M19 3H5c-1.1 0-2 .9-2 2v14c0 1.1.9 2 2 2h14c1.1 0 2-.9 2-2V5c0-1.1-.9-2-2-2zM9 17H7v-7h2v7zm4 0h-2V7h2v10zm4 0h-2v-4h2v4z\"/>\n",
              "    </g>\n",
              "</svg>\n",
              "  </button>\n",
              "\n",
              "<style>\n",
              "  .colab-df-quickchart {\n",
              "      --bg-color: #E8F0FE;\n",
              "      --fill-color: #1967D2;\n",
              "      --hover-bg-color: #E2EBFA;\n",
              "      --hover-fill-color: #174EA6;\n",
              "      --disabled-fill-color: #AAA;\n",
              "      --disabled-bg-color: #DDD;\n",
              "  }\n",
              "\n",
              "  [theme=dark] .colab-df-quickchart {\n",
              "      --bg-color: #3B4455;\n",
              "      --fill-color: #D2E3FC;\n",
              "      --hover-bg-color: #434B5C;\n",
              "      --hover-fill-color: #FFFFFF;\n",
              "      --disabled-bg-color: #3B4455;\n",
              "      --disabled-fill-color: #666;\n",
              "  }\n",
              "\n",
              "  .colab-df-quickchart {\n",
              "    background-color: var(--bg-color);\n",
              "    border: none;\n",
              "    border-radius: 50%;\n",
              "    cursor: pointer;\n",
              "    display: none;\n",
              "    fill: var(--fill-color);\n",
              "    height: 32px;\n",
              "    padding: 0;\n",
              "    width: 32px;\n",
              "  }\n",
              "\n",
              "  .colab-df-quickchart:hover {\n",
              "    background-color: var(--hover-bg-color);\n",
              "    box-shadow: 0 1px 2px rgba(60, 64, 67, 0.3), 0 1px 3px 1px rgba(60, 64, 67, 0.15);\n",
              "    fill: var(--button-hover-fill-color);\n",
              "  }\n",
              "\n",
              "  .colab-df-quickchart-complete:disabled,\n",
              "  .colab-df-quickchart-complete:disabled:hover {\n",
              "    background-color: var(--disabled-bg-color);\n",
              "    fill: var(--disabled-fill-color);\n",
              "    box-shadow: none;\n",
              "  }\n",
              "\n",
              "  .colab-df-spinner {\n",
              "    border: 2px solid var(--fill-color);\n",
              "    border-color: transparent;\n",
              "    border-bottom-color: var(--fill-color);\n",
              "    animation:\n",
              "      spin 1s steps(1) infinite;\n",
              "  }\n",
              "\n",
              "  @keyframes spin {\n",
              "    0% {\n",
              "      border-color: transparent;\n",
              "      border-bottom-color: var(--fill-color);\n",
              "      border-left-color: var(--fill-color);\n",
              "    }\n",
              "    20% {\n",
              "      border-color: transparent;\n",
              "      border-left-color: var(--fill-color);\n",
              "      border-top-color: var(--fill-color);\n",
              "    }\n",
              "    30% {\n",
              "      border-color: transparent;\n",
              "      border-left-color: var(--fill-color);\n",
              "      border-top-color: var(--fill-color);\n",
              "      border-right-color: var(--fill-color);\n",
              "    }\n",
              "    40% {\n",
              "      border-color: transparent;\n",
              "      border-right-color: var(--fill-color);\n",
              "      border-top-color: var(--fill-color);\n",
              "    }\n",
              "    60% {\n",
              "      border-color: transparent;\n",
              "      border-right-color: var(--fill-color);\n",
              "    }\n",
              "    80% {\n",
              "      border-color: transparent;\n",
              "      border-right-color: var(--fill-color);\n",
              "      border-bottom-color: var(--fill-color);\n",
              "    }\n",
              "    90% {\n",
              "      border-color: transparent;\n",
              "      border-bottom-color: var(--fill-color);\n",
              "    }\n",
              "  }\n",
              "</style>\n",
              "\n",
              "  <script>\n",
              "    async function quickchart(key) {\n",
              "      const quickchartButtonEl =\n",
              "        document.querySelector('#' + key + ' button');\n",
              "      quickchartButtonEl.disabled = true;  // To prevent multiple clicks.\n",
              "      quickchartButtonEl.classList.add('colab-df-spinner');\n",
              "      try {\n",
              "        const charts = await google.colab.kernel.invokeFunction(\n",
              "            'suggestCharts', [key], {});\n",
              "      } catch (error) {\n",
              "        console.error('Error during call to suggestCharts:', error);\n",
              "      }\n",
              "      quickchartButtonEl.classList.remove('colab-df-spinner');\n",
              "      quickchartButtonEl.classList.add('colab-df-quickchart-complete');\n",
              "    }\n",
              "    (() => {\n",
              "      let quickchartButtonEl =\n",
              "        document.querySelector('#df-6f48daed-93fb-4403-b7b8-d67e3aeba754 button');\n",
              "      quickchartButtonEl.style.display =\n",
              "        google.colab.kernel.accessAllowed ? 'block' : 'none';\n",
              "    })();\n",
              "  </script>\n",
              "</div>\n",
              "\n",
              "    </div>\n",
              "  </div>\n"
            ],
            "application/vnd.google.colaboratory.intrinsic+json": {
              "type": "dataframe",
              "variable_name": "dataset"
            }
          },
          "metadata": {},
          "execution_count": 83
        }
      ]
    },
    {
      "cell_type": "code",
      "source": [
        "# Checking the column names in the dataset\n",
        "dataset.columns\n",
        "\n",
        "# Extracting unique values from the 'diagnosis' column to see the classification labels\n",
        "set1 = set(dataset['diagnosis '])\n",
        "print(set1)"
      ],
      "metadata": {
        "colab": {
          "base_uri": "https://localhost:8080/"
        },
        "id": "P54CyIXWN9xH",
        "outputId": "5499c8c1-f221-4793-f082-8c20df33e02a"
      },
      "execution_count": 84,
      "outputs": [
        {
          "output_type": "stream",
          "name": "stdout",
          "text": [
            "{'M         ', 'B         '}\n"
          ]
        }
      ]
    },
    {
      "cell_type": "markdown",
      "source": [
        "## 2. Data Preprocessing\n",
        "The 'diagnosis' column contains categorical values 'M' (Malignant) and 'B' (Benign). We map these to binary values, where 'M' becomes 1 and 'B' becomes 0. This conversion is essential for training machine learning models."
      ],
      "metadata": {
        "id": "Oo8_vK1656qd"
      }
    },
    {
      "cell_type": "code",
      "source": [
        "# Mapping the 'diagnosis' column to binary values: M (Malignant) -> 1, B (Benign) -> 0\n",
        "dataset['diagnosis '] = dataset['diagnosis '].map({'M         ': 1,'B         ': 0}).astype(int)\n",
        "print(dataset.head())"
      ],
      "metadata": {
        "colab": {
          "base_uri": "https://localhost:8080/"
        },
        "id": "fgCUl5-8PLj9",
        "outputId": "6be452f4-fe2d-4a00-cd97-4c7410bb6213"
      },
      "execution_count": 85,
      "outputs": [
        {
          "output_type": "stream",
          "name": "stdout",
          "text": [
            "   id          diagnosis   radius_mean   texture_mean   perimeter_mean   \\\n",
            "0      842302           1         17.99          10.38           122.80   \n",
            "1      842517           1         20.57          17.77           132.90   \n",
            "2    84300903           1         19.69          21.25           130.00   \n",
            "3    84348301           1         11.42          20.38            77.58   \n",
            "4    84358402           1         20.29          14.34           135.10   \n",
            "\n",
            "   area_mean   smoothness_mean   compactness_mean   concavity_mean   \\\n",
            "0      1001.0           0.11840            0.27760           0.3001   \n",
            "1      1326.0           0.08474            0.07864           0.0869   \n",
            "2      1203.0           0.10960            0.15990           0.1974   \n",
            "3       386.1           0.14250            0.28390           0.2414   \n",
            "4      1297.0           0.10030            0.13280           0.1980   \n",
            "\n",
            "   concave_points_mean   ...  radius_worst   texture_worst   perimeter_worst   \\\n",
            "0               0.14710  ...          25.38           17.33            184.60   \n",
            "1               0.07017  ...          24.99           23.41            158.80   \n",
            "2               0.12790  ...          23.57           25.53            152.50   \n",
            "3               0.10520  ...          14.91           26.50             98.87   \n",
            "4               0.10430  ...          22.54           16.67            152.20   \n",
            "\n",
            "   area_worst   smoothness_worst   compactness_worst   concavity_worst   \\\n",
            "0       2019.0             0.1622              0.6656            0.7119   \n",
            "1       1956.0             0.1238              0.1866            0.2416   \n",
            "2       1709.0             0.1444              0.4245            0.4504   \n",
            "3        567.7             0.2098              0.8663            0.6869   \n",
            "4       1575.0             0.1374              0.2050            0.4000   \n",
            "\n",
            "   concave_points_worst   symmetry_worst   fractal_dimension_worst  \n",
            "0                 0.2654           0.4601                  0.11890  \n",
            "1                 0.1860           0.2750                  0.08902  \n",
            "2                 0.2430           0.3613                  0.08758  \n",
            "3                 0.2575           0.6638                  0.17300  \n",
            "4                 0.1625           0.2364                  0.07678  \n",
            "\n",
            "[5 rows x 32 columns]\n"
          ]
        }
      ]
    },
    {
      "cell_type": "markdown",
      "source": [
        "## 3. Splitting the Data\n",
        "The dataset is split into features (x) and target labels (y). We use the `train_test_split` function to divide the data into training and testing sets, with 80% of the data used for training and 20% for testing."
      ],
      "metadata": {
        "id": "ic0T7PcR6drQ"
      }
    },
    {
      "cell_type": "code",
      "source": [
        "from sklearn.model_selection import train_test_split\n",
        "x = dataset.iloc[:, 2:].values # All columns except the first two are features\n",
        "y = dataset.iloc[:, 1].values  # The second column (diagnosis) is the target label\n",
        "x_train, x_test, y_train, y_test = train_test_split(x, y, test_size = 0.20, random_state = 0)\n"
      ],
      "metadata": {
        "id": "GNaARRakPLcF"
      },
      "execution_count": 86,
      "outputs": []
    },
    {
      "cell_type": "markdown",
      "source": [
        "## 4. Model Selection and Evaluation\n",
        "We import several classifiers, including Logistic Regression, K-Nearest Neighbors, Support Vector Machine, Decision Tree, Random Forest, Naive Bayes, and Linear Discriminant Analysis. These models are evaluated using 10-fold cross-validation to ensure robustness.\n"
      ],
      "metadata": {
        "id": "69FpU6d_66Tq"
      }
    },
    {
      "cell_type": "code",
      "source": [
        "# Importing various machine learning models\n",
        "from sklearn.discriminant_analysis import LinearDiscriminantAnalysis as LDA\n",
        "from sklearn.linear_model import LogisticRegression\n",
        "from sklearn.neighbors import KNeighborsClassifier\n",
        "from sklearn.svm import SVC\n",
        "from sklearn.tree import DecisionTreeClassifier\n",
        "from sklearn.ensemble import RandomForestClassifier\n",
        "from sklearn.naive_bayes import GaussianNB\n",
        "\n",
        "# Importing metrics to evaluate model performance\n",
        "from sklearn.metrics import confusion_matrix\n",
        "from sklearn.metrics import accuracy_score\n",
        "from sklearn.model_selection import cross_val_score\n",
        "from sklearn.model_selection import StratifiedKFold"
      ],
      "metadata": {
        "id": "YatWhXWKR9-V"
      },
      "execution_count": 87,
      "outputs": []
    },
    {
      "cell_type": "markdown",
      "source": [
        "### Cross-Validation\n",
        "Cross-validation is a technique used to assess the generalizability of a model. Here, we use Stratified K-Fold cross-validation, which ensures that each fold of the dataset maintains the same class distribution as the original data."
      ],
      "metadata": {
        "id": "1p2ksPdz7jC2"
      }
    },
    {
      "cell_type": "code",
      "source": [
        "# Importing the StandardScaler\n",
        "from sklearn.preprocessing import StandardScaler\n",
        "\n",
        "# Scaling the data\n",
        "scaler = StandardScaler()\n",
        "x_train = scaler.fit_transform(x_train)\n",
        "x_test = scaler.transform(x_test)\n",
        "\n",
        "# Creating a list of models to evaluate\n",
        "models = []\n",
        "models.append(('LDA', LDA()))\n",
        "models.append(('LR', LogisticRegression()))\n",
        "models.append(('KNN', KNeighborsClassifier()))\n",
        "models.append(('SVC', SVC()))\n",
        "models.append(('DT', DecisionTreeClassifier()))\n",
        "models.append(('RF', RandomForestClassifier()))\n",
        "models.append(('NB', GaussianNB()))"
      ],
      "metadata": {
        "id": "5jNzjVgaR9uk"
      },
      "execution_count": 88,
      "outputs": []
    },
    {
      "cell_type": "markdown",
      "source": [
        "## 5. Model Performance Visualization\n",
        "The mean accuracy of each model is plotted using a bar chart. This visual representation allows us to compare the performance of different classifiers easily."
      ],
      "metadata": {
        "id": "Lu30iX9C7pZf"
      }
    },
    {
      "cell_type": "code",
      "source": [
        "# Initializing lists to store results\n",
        "results = []\n",
        "names = []\n",
        "res = []\n",
        "\n",
        "for name, model in models:\n",
        "  kfold = StratifiedKFold(n_splits=10)\n",
        "  cv_results = cross_val_score(model, x_train, y_train, cv=kfold, scoring='accuracy')\n",
        "  results.append(cv_results)\n",
        "  names.append(name)\n",
        "  res.append(cv_results.mean())\n",
        "  msg = \"%s: %f\" % (name, cv_results.mean())\n",
        "  print(msg)\n",
        "\n",
        "# Plotting the accuracy of each model\n",
        "plt.ylim(0.90 , 1.00)\n",
        "plt.bar(names, res)\n",
        "plt.show()\n"
      ],
      "metadata": {
        "colab": {
          "base_uri": "https://localhost:8080/",
          "height": 557
        },
        "id": "I2QF4cSnR9r8",
        "outputId": "339c4885-2ab8-4822-bd08-ef9adad4d9f0"
      },
      "execution_count": 89,
      "outputs": [
        {
          "output_type": "stream",
          "name": "stdout",
          "text": [
            "LDA: 0.956087\n",
            "LR: 0.978068\n",
            "KNN: 0.964879\n",
            "SVC: 0.975894\n",
            "DT: 0.920918\n",
            "RF: 0.962657\n",
            "NB: 0.949565\n"
          ]
        },
        {
          "output_type": "display_data",
          "data": {
            "text/plain": [
              "<Figure size 640x480 with 1 Axes>"
            ],
            "image/png": "[encoded data removed]"
          },
          "metadata": {}
        }
      ]
    },
    {
      "cell_type": "markdown",
      "source": [
        "## 6. Training and Testing with SupportVectorClassifier\n",
        "Finally, we select the SupportVectorClassifier, train it on the training data, and test it on the test data. We calculate the accuracy of the model on the test data and print the result."
      ],
      "metadata": {
        "id": "mWZU3Ags7zeP"
      }
    },
    {
      "cell_type": "code",
      "source": [
        "# Fitting the RandomForestClassifier to the training data\n",
        "model = SVC()\n",
        "model.fit(x_train, y_train)\n",
        "\n",
        "# Making predictions on the test data\n",
        "predictions = model.predict(x_test)\n",
        "\n",
        "# Calculating and printing the accuracy of the model\n",
        "final1 = accuracy_score(y_test, predictions)*100\n",
        "print(f\"Accuracy : {final1.round(2)}\")\n"
      ],
      "metadata": {
        "colab": {
          "base_uri": "https://localhost:8080/"
        },
        "id": "i1N_oMn2R9pM",
        "outputId": "05581f7f-03fe-44f6-ca00-b7627f9250f5"
      },
      "execution_count": 90,
      "outputs": [
        {
          "output_type": "stream",
          "name": "stdout",
          "text": [
            "Accuracy : 98.25\n"
          ]
        }
      ]
    },
    {
      "cell_type": "markdown",
      "source": [
        "### `Github : hellopavi`"
      ],
      "metadata": {
        "id": "orudWI3i9b4Q"
      }
    }
  ]
}